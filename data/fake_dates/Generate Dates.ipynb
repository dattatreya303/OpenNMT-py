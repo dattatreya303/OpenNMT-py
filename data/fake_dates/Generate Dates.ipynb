{
 "cells": [
  {
   "cell_type": "code",
   "execution_count": 55,
   "metadata": {
    "collapsed": true
   },
   "outputs": [],
   "source": [
    "from faker import Faker \n",
    "import datetime as dt\n",
    "import random"
   ]
  },
  {
   "cell_type": "code",
   "execution_count": 7,
   "metadata": {
    "collapsed": true
   },
   "outputs": [],
   "source": [
    "fake = Faker()"
   ]
  },
  {
   "cell_type": "code",
   "execution_count": 64,
   "metadata": {
    "collapsed": true
   },
   "outputs": [],
   "source": [
    "all_formats = [\"%d. %B, %y\",\n",
    "               \"%d. %B, %Y\",\n",
    "               \"%d. %b, %y\",\n",
    "               \"%d. %b, %Y\",\n",
    "               \"%B %d, %Y\",\n",
    "               \"%B %d, %y\",\n",
    "               \"%d.%m.%Y\",\n",
    "               \"%d.%m.%y\",\n",
    "               \"%m/%d/%Y\",\n",
    "               \"%m/%d/%y\",\n",
    "               \"%Y-%m-%d\",\n",
    "               \"%Y/%m/%d\"\n",
    "              ]\n",
    "correct_format = \"%Y-%m-%d\""
   ]
  },
  {
   "cell_type": "code",
   "execution_count": 81,
   "metadata": {
    "collapsed": true
   },
   "outputs": [],
   "source": [
    "def format_chars(s):\n",
    "    return \" \".join(list(s.replace(\" \", \"_\")))"
   ]
  },
  {
   "cell_type": "code",
   "execution_count": 97,
   "metadata": {},
   "outputs": [],
   "source": [
    "def write_file(srcf, tgtf, n):\n",
    "    for i in range(n):\n",
    "        dat = fake.past_date(start_date=\"-20y\", tzinfo=None)\n",
    "        src = dat.strftime(format=random.choice(all_formats))\n",
    "        src = format_chars(src)\n",
    "        srcf.write(src + \"\\n\")\n",
    "        tgt = dat.strftime(format=correct_format)\n",
    "        tgt = format_chars(tgt)\n",
    "        tgtf.write(tgt + \"\\n\")\n",
    "        # print(\"%s %s\" % (src.ljust(40), tgt))"
   ]
  },
  {
   "cell_type": "code",
   "execution_count": 98,
   "metadata": {},
   "outputs": [],
   "source": [
    "src_file = open(\"train.src.txt\", 'w')\n",
    "tgt_file = open(\"train.tgt.txt\", 'w')\n",
    "write_file(src_file, tgt_file, 20000)\n",
    "src_file.close()\n",
    "tgt_file.close()"
   ]
  },
  {
   "cell_type": "code",
   "execution_count": 99,
   "metadata": {
    "collapsed": true
   },
   "outputs": [],
   "source": [
    "src_file = open(\"val.src.txt\", 'w')\n",
    "tgt_file = open(\"val.tgt.txt\", 'w')\n",
    "write_file(src_file, tgt_file, 500)\n",
    "src_file.close()\n",
    "tgt_file.close()"
   ]
  },
  {
   "cell_type": "code",
   "execution_count": null,
   "metadata": {
    "collapsed": true
   },
   "outputs": [],
   "source": []
  }
 ],
 "metadata": {
  "kernelspec": {
   "display_name": "Python 3",
   "language": "python",
   "name": "python3"
  },
  "language_info": {
   "codemirror_mode": {
    "name": "ipython",
    "version": 3
   },
   "file_extension": ".py",
   "mimetype": "text/x-python",
   "name": "python",
   "nbconvert_exporter": "python",
   "pygments_lexer": "ipython3",
   "version": "3.6.1"
  }
 },
 "nbformat": 4,
 "nbformat_minor": 2
}
